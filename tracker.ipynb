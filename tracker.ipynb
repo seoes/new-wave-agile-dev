{
  "nbformat": 4,
  "nbformat_minor": 0,
  "metadata": {
    "colab": {
      "provenance": [],
      "authorship_tag": "ABX9TyMwSGycXkAoaKXTaPZXKQCb",
      "include_colab_link": true
    },
    "kernelspec": {
      "name": "python3",
      "display_name": "Python 3"
    },
    "language_info": {
      "name": "python"
    }
  },
  "cells": [
    {
      "cell_type": "markdown",
      "metadata": {
        "id": "view-in-github",
        "colab_type": "text"
      },
      "source": [
        "<a href=\"https://colab.research.google.com/github/seoes/odyssey-ai/blob/seo/tracker.ipynb\" target=\"_parent\"><img src=\"https://colab.research.google.com/assets/colab-badge.svg\" alt=\"Open In Colab\"/></a>"
      ]
    },
    {
      "cell_type": "markdown",
      "source": [
        "# 1. 기본 설정"
      ],
      "metadata": {
        "id": "-GdpxZ1Khfkq"
      }
    },
    {
      "cell_type": "markdown",
      "source": [
        "## 첫 설정"
      ],
      "metadata": {
        "id": "DYy4jiBuhjr-"
      }
    },
    {
      "cell_type": "code",
      "execution_count": 1,
      "metadata": {
        "id": "HCgTuRtChd9I"
      },
      "outputs": [],
      "source": [
        "import torch\n",
        "import numpy as np\n",
        "import cv2\n",
        "\n",
        "from IPython.display import clear_output, display, Image"
      ]
    },
    {
      "cell_type": "markdown",
      "source": [
        "## YOLOv5 설치"
      ],
      "metadata": {
        "id": "Bg8MEXFGhpmX"
      }
    },
    {
      "cell_type": "code",
      "source": [
        "!git clone https://github.com/ultralytics/yolov5.git\n",
        "%cd yolov5\n",
        "!pip install -r requirements.txt\n",
        "\n",
        "model = torch.hub.load('ultralytics/yolov5', 'yolov5s')"
      ],
      "metadata": {
        "colab": {
          "base_uri": "https://localhost:8080/",
          "height": 1000
        },
        "id": "eAetkc3JhvUg",
        "outputId": "3680bc5f-c926-4ed1-bb13-eb959c31c3dc"
      },
      "execution_count": 2,
      "outputs": [
        {
          "output_type": "stream",
          "name": "stdout",
          "text": [
            "Cloning into 'yolov5'...\n",
            "remote: Enumerating objects: 16078, done.\u001b[K\n",
            "remote: Counting objects: 100% (22/22), done.\u001b[K\n",
            "remote: Compressing objects: 100% (21/21), done.\u001b[K\n",
            "remote: Total 16078 (delta 6), reused 9 (delta 1), pack-reused 16056\u001b[K\n",
            "Receiving objects: 100% (16078/16078), 14.72 MiB | 17.23 MiB/s, done.\n",
            "Resolving deltas: 100% (11038/11038), done.\n",
            "/content/yolov5\n",
            "Collecting gitpython>=3.1.30 (from -r requirements.txt (line 5))\n",
            "  Downloading GitPython-3.1.40-py3-none-any.whl (190 kB)\n",
            "\u001b[2K     \u001b[90m━━━━━━━━━━━━━━━━━━━━━━━━━━━━━━━━━━━━━━━━\u001b[0m \u001b[32m190.6/190.6 kB\u001b[0m \u001b[31m3.7 MB/s\u001b[0m eta \u001b[36m0:00:00\u001b[0m\n",
            "\u001b[?25hRequirement already satisfied: matplotlib>=3.3 in /usr/local/lib/python3.10/dist-packages (from -r requirements.txt (line 6)) (3.7.1)\n",
            "Requirement already satisfied: numpy>=1.22.2 in /usr/local/lib/python3.10/dist-packages (from -r requirements.txt (line 7)) (1.23.5)\n",
            "Requirement already satisfied: opencv-python>=4.1.1 in /usr/local/lib/python3.10/dist-packages (from -r requirements.txt (line 8)) (4.8.0.76)\n",
            "Collecting Pillow>=10.0.1 (from -r requirements.txt (line 9))\n",
            "  Downloading Pillow-10.1.0-cp310-cp310-manylinux_2_28_x86_64.whl (3.6 MB)\n",
            "\u001b[2K     \u001b[90m━━━━━━━━━━━━━━━━━━━━━━━━━━━━━━━━━━━━━━━━\u001b[0m \u001b[32m3.6/3.6 MB\u001b[0m \u001b[31m50.0 MB/s\u001b[0m eta \u001b[36m0:00:00\u001b[0m\n",
            "\u001b[?25hRequirement already satisfied: psutil in /usr/local/lib/python3.10/dist-packages (from -r requirements.txt (line 10)) (5.9.5)\n",
            "Requirement already satisfied: PyYAML>=5.3.1 in /usr/local/lib/python3.10/dist-packages (from -r requirements.txt (line 11)) (6.0.1)\n",
            "Requirement already satisfied: requests>=2.23.0 in /usr/local/lib/python3.10/dist-packages (from -r requirements.txt (line 12)) (2.31.0)\n",
            "Requirement already satisfied: scipy>=1.4.1 in /usr/local/lib/python3.10/dist-packages (from -r requirements.txt (line 13)) (1.11.4)\n",
            "Collecting thop>=0.1.1 (from -r requirements.txt (line 14))\n",
            "  Downloading thop-0.1.1.post2209072238-py3-none-any.whl (15 kB)\n",
            "Requirement already satisfied: torch>=1.8.0 in /usr/local/lib/python3.10/dist-packages (from -r requirements.txt (line 15)) (2.1.0+cu118)\n",
            "Requirement already satisfied: torchvision>=0.9.0 in /usr/local/lib/python3.10/dist-packages (from -r requirements.txt (line 16)) (0.16.0+cu118)\n",
            "Requirement already satisfied: tqdm>=4.64.0 in /usr/local/lib/python3.10/dist-packages (from -r requirements.txt (line 17)) (4.66.1)\n",
            "Collecting ultralytics>=8.0.147 (from -r requirements.txt (line 18))\n",
            "  Downloading ultralytics-8.0.221-py3-none-any.whl (646 kB)\n",
            "\u001b[2K     \u001b[90m━━━━━━━━━━━━━━━━━━━━━━━━━━━━━━━━━━━━━━━━\u001b[0m \u001b[32m646.6/646.6 kB\u001b[0m \u001b[31m47.1 MB/s\u001b[0m eta \u001b[36m0:00:00\u001b[0m\n",
            "\u001b[?25hRequirement already satisfied: pandas>=1.1.4 in /usr/local/lib/python3.10/dist-packages (from -r requirements.txt (line 27)) (1.5.3)\n",
            "Requirement already satisfied: seaborn>=0.11.0 in /usr/local/lib/python3.10/dist-packages (from -r requirements.txt (line 28)) (0.12.2)\n",
            "Requirement already satisfied: setuptools>=65.5.1 in /usr/local/lib/python3.10/dist-packages (from -r requirements.txt (line 42)) (67.7.2)\n",
            "Collecting gitdb<5,>=4.0.1 (from gitpython>=3.1.30->-r requirements.txt (line 5))\n",
            "  Downloading gitdb-4.0.11-py3-none-any.whl (62 kB)\n",
            "\u001b[2K     \u001b[90m━━━━━━━━━━━━━━━━━━━━━━━━━━━━━━━━━━━━━━━━\u001b[0m \u001b[32m62.7/62.7 kB\u001b[0m \u001b[31m6.7 MB/s\u001b[0m eta \u001b[36m0:00:00\u001b[0m\n",
            "\u001b[?25hRequirement already satisfied: contourpy>=1.0.1 in /usr/local/lib/python3.10/dist-packages (from matplotlib>=3.3->-r requirements.txt (line 6)) (1.2.0)\n",
            "Requirement already satisfied: cycler>=0.10 in /usr/local/lib/python3.10/dist-packages (from matplotlib>=3.3->-r requirements.txt (line 6)) (0.12.1)\n",
            "Requirement already satisfied: fonttools>=4.22.0 in /usr/local/lib/python3.10/dist-packages (from matplotlib>=3.3->-r requirements.txt (line 6)) (4.45.1)\n",
            "Requirement already satisfied: kiwisolver>=1.0.1 in /usr/local/lib/python3.10/dist-packages (from matplotlib>=3.3->-r requirements.txt (line 6)) (1.4.5)\n",
            "Requirement already satisfied: packaging>=20.0 in /usr/local/lib/python3.10/dist-packages (from matplotlib>=3.3->-r requirements.txt (line 6)) (23.2)\n",
            "Requirement already satisfied: pyparsing>=2.3.1 in /usr/local/lib/python3.10/dist-packages (from matplotlib>=3.3->-r requirements.txt (line 6)) (3.1.1)\n",
            "Requirement already satisfied: python-dateutil>=2.7 in /usr/local/lib/python3.10/dist-packages (from matplotlib>=3.3->-r requirements.txt (line 6)) (2.8.2)\n",
            "Requirement already satisfied: charset-normalizer<4,>=2 in /usr/local/lib/python3.10/dist-packages (from requests>=2.23.0->-r requirements.txt (line 12)) (3.3.2)\n",
            "Requirement already satisfied: idna<4,>=2.5 in /usr/local/lib/python3.10/dist-packages (from requests>=2.23.0->-r requirements.txt (line 12)) (3.6)\n",
            "Requirement already satisfied: urllib3<3,>=1.21.1 in /usr/local/lib/python3.10/dist-packages (from requests>=2.23.0->-r requirements.txt (line 12)) (2.0.7)\n",
            "Requirement already satisfied: certifi>=2017.4.17 in /usr/local/lib/python3.10/dist-packages (from requests>=2.23.0->-r requirements.txt (line 12)) (2023.11.17)\n",
            "Requirement already satisfied: filelock in /usr/local/lib/python3.10/dist-packages (from torch>=1.8.0->-r requirements.txt (line 15)) (3.13.1)\n",
            "Requirement already satisfied: typing-extensions in /usr/local/lib/python3.10/dist-packages (from torch>=1.8.0->-r requirements.txt (line 15)) (4.5.0)\n",
            "Requirement already satisfied: sympy in /usr/local/lib/python3.10/dist-packages (from torch>=1.8.0->-r requirements.txt (line 15)) (1.12)\n",
            "Requirement already satisfied: networkx in /usr/local/lib/python3.10/dist-packages (from torch>=1.8.0->-r requirements.txt (line 15)) (3.2.1)\n",
            "Requirement already satisfied: jinja2 in /usr/local/lib/python3.10/dist-packages (from torch>=1.8.0->-r requirements.txt (line 15)) (3.1.2)\n",
            "Requirement already satisfied: fsspec in /usr/local/lib/python3.10/dist-packages (from torch>=1.8.0->-r requirements.txt (line 15)) (2023.6.0)\n",
            "Requirement already satisfied: triton==2.1.0 in /usr/local/lib/python3.10/dist-packages (from torch>=1.8.0->-r requirements.txt (line 15)) (2.1.0)\n",
            "Requirement already satisfied: py-cpuinfo in /usr/local/lib/python3.10/dist-packages (from ultralytics>=8.0.147->-r requirements.txt (line 18)) (9.0.0)\n",
            "Requirement already satisfied: pytz>=2020.1 in /usr/local/lib/python3.10/dist-packages (from pandas>=1.1.4->-r requirements.txt (line 27)) (2023.3.post1)\n",
            "Collecting smmap<6,>=3.0.1 (from gitdb<5,>=4.0.1->gitpython>=3.1.30->-r requirements.txt (line 5))\n",
            "  Downloading smmap-5.0.1-py3-none-any.whl (24 kB)\n",
            "Requirement already satisfied: six>=1.5 in /usr/local/lib/python3.10/dist-packages (from python-dateutil>=2.7->matplotlib>=3.3->-r requirements.txt (line 6)) (1.16.0)\n",
            "Requirement already satisfied: MarkupSafe>=2.0 in /usr/local/lib/python3.10/dist-packages (from jinja2->torch>=1.8.0->-r requirements.txt (line 15)) (2.1.3)\n",
            "Requirement already satisfied: mpmath>=0.19 in /usr/local/lib/python3.10/dist-packages (from sympy->torch>=1.8.0->-r requirements.txt (line 15)) (1.3.0)\n",
            "Installing collected packages: smmap, Pillow, gitdb, thop, gitpython, ultralytics\n",
            "  Attempting uninstall: Pillow\n",
            "    Found existing installation: Pillow 9.4.0\n",
            "    Uninstalling Pillow-9.4.0:\n",
            "      Successfully uninstalled Pillow-9.4.0\n",
            "\u001b[31mERROR: pip's dependency resolver does not currently take into account all the packages that are installed. This behaviour is the source of the following dependency conflicts.\n",
            "imageio 2.31.6 requires pillow<10.1.0,>=8.3.2, but you have pillow 10.1.0 which is incompatible.\u001b[0m\u001b[31m\n",
            "\u001b[0mSuccessfully installed Pillow-10.1.0 gitdb-4.0.11 gitpython-3.1.40 smmap-5.0.1 thop-0.1.1.post2209072238 ultralytics-8.0.221\n"
          ]
        },
        {
          "output_type": "display_data",
          "data": {
            "application/vnd.colab-display-data+json": {
              "pip_warning": {
                "packages": [
                  "PIL"
                ]
              }
            }
          },
          "metadata": {}
        },
        {
          "output_type": "stream",
          "name": "stderr",
          "text": [
            "/usr/local/lib/python3.10/dist-packages/torch/hub.py:294: UserWarning: You are about to download and run code from an untrusted repository. In a future release, this won't be allowed. To add the repository to your trusted list, change the command to {calling_fn}(..., trust_repo=False) and a command prompt will appear asking for an explicit confirmation of trust, or load(..., trust_repo=True), which will assume that the prompt is to be answered with 'yes'. You can also use load(..., trust_repo='check') which will only prompt for confirmation if the repo is not already trusted. This will eventually be the default behaviour\n",
            "  warnings.warn(\n",
            "Downloading: \"https://github.com/ultralytics/yolov5/zipball/master\" to /root/.cache/torch/hub/master.zip\n",
            "YOLOv5 🚀 2023-12-2 Python-3.10.12 torch-2.1.0+cu118 CPU\n",
            "\n",
            "Downloading https://github.com/ultralytics/yolov5/releases/download/v7.0/yolov5s.pt to yolov5s.pt...\n",
            "100%|██████████| 14.1M/14.1M [00:00<00:00, 38.2MB/s]\n",
            "\n",
            "Fusing layers... \n",
            "YOLOv5s summary: 213 layers, 7225885 parameters, 0 gradients, 16.4 GFLOPs\n",
            "Adding AutoShape... \n"
          ]
        }
      ]
    },
    {
      "cell_type": "markdown",
      "source": [
        "## Supervision 설치"
      ],
      "metadata": {
        "id": "hjxeQWSZjhyr"
      }
    },
    {
      "cell_type": "code",
      "source": [
        "!pip install supervision\n",
        "\n",
        "import supervision as sv\n",
        "\n",
        "colors = sv.ColorPalette.default()"
      ],
      "metadata": {
        "colab": {
          "base_uri": "https://localhost:8080/"
        },
        "id": "OeDQDbiZjjwA",
        "outputId": "6b3fcece-c69c-4eff-c9fb-8392dfef9163"
      },
      "execution_count": 3,
      "outputs": [
        {
          "output_type": "stream",
          "name": "stdout",
          "text": [
            "Collecting supervision\n",
            "  Downloading supervision-0.16.0-py3-none-any.whl (72 kB)\n",
            "\u001b[2K     \u001b[90m━━━━━━━━━━━━━━━━━━━━━━━━━━━━━━━━━━━━━━━━\u001b[0m \u001b[32m72.2/72.2 kB\u001b[0m \u001b[31m1.7 MB/s\u001b[0m eta \u001b[36m0:00:00\u001b[0m\n",
            "\u001b[?25hRequirement already satisfied: matplotlib<4.0.0,>=3.7.1 in /usr/local/lib/python3.10/dist-packages (from supervision) (3.7.1)\n",
            "Requirement already satisfied: numpy<2.0.0,>=1.20.0 in /usr/local/lib/python3.10/dist-packages (from supervision) (1.23.5)\n",
            "Requirement already satisfied: opencv-python-headless<5.0.0.0,>=4.8.0.74 in /usr/local/lib/python3.10/dist-packages (from supervision) (4.8.1.78)\n",
            "Requirement already satisfied: pillow<11.0,>=9.4 in /usr/local/lib/python3.10/dist-packages (from supervision) (10.1.0)\n",
            "Requirement already satisfied: pyyaml<7.0,>=6.0 in /usr/local/lib/python3.10/dist-packages (from supervision) (6.0.1)\n",
            "Requirement already satisfied: scipy<2.0.0,>=1.9.0 in /usr/local/lib/python3.10/dist-packages (from supervision) (1.11.4)\n",
            "Requirement already satisfied: contourpy>=1.0.1 in /usr/local/lib/python3.10/dist-packages (from matplotlib<4.0.0,>=3.7.1->supervision) (1.2.0)\n",
            "Requirement already satisfied: cycler>=0.10 in /usr/local/lib/python3.10/dist-packages (from matplotlib<4.0.0,>=3.7.1->supervision) (0.12.1)\n",
            "Requirement already satisfied: fonttools>=4.22.0 in /usr/local/lib/python3.10/dist-packages (from matplotlib<4.0.0,>=3.7.1->supervision) (4.45.1)\n",
            "Requirement already satisfied: kiwisolver>=1.0.1 in /usr/local/lib/python3.10/dist-packages (from matplotlib<4.0.0,>=3.7.1->supervision) (1.4.5)\n",
            "Requirement already satisfied: packaging>=20.0 in /usr/local/lib/python3.10/dist-packages (from matplotlib<4.0.0,>=3.7.1->supervision) (23.2)\n",
            "Requirement already satisfied: pyparsing>=2.3.1 in /usr/local/lib/python3.10/dist-packages (from matplotlib<4.0.0,>=3.7.1->supervision) (3.1.1)\n",
            "Requirement already satisfied: python-dateutil>=2.7 in /usr/local/lib/python3.10/dist-packages (from matplotlib<4.0.0,>=3.7.1->supervision) (2.8.2)\n",
            "Requirement already satisfied: six>=1.5 in /usr/local/lib/python3.10/dist-packages (from python-dateutil>=2.7->matplotlib<4.0.0,>=3.7.1->supervision) (1.16.0)\n",
            "Installing collected packages: supervision\n",
            "Successfully installed supervision-0.16.0\n"
          ]
        }
      ]
    },
    {
      "cell_type": "markdown",
      "source": [
        "# 2. 데이터 세팅"
      ],
      "metadata": {
        "id": "Vpk_nE9-h140"
      }
    },
    {
      "cell_type": "markdown",
      "source": [
        "## 영상 다운로드 후 경로 설정"
      ],
      "metadata": {
        "id": "upBV_WREh77B"
      }
    },
    {
      "cell_type": "code",
      "source": [
        "import os\n",
        "HOME = os.getcwd()\n",
        "%cd {HOME}\n",
        "\n",
        "!wget --no-check-certificate 'https://drive.google.com/uc?export=download&id=1vcKRPpv7ve1St-0rynhGa-H3lHMyCNt9' -O exhibition-64-sample.mp4\n",
        "!wget --no-check-certificate 'https://drive.google.com/uc?export=download&id=1ERyxsKGZmJZFgOBKGwVguQFqGJbYu575' -O exhibition-32-sample.mp4\n",
        "!wget --no-check-certificate 'https://drive.google.com/uc?export=download&id=1Mcp8xRYhsaxE3SfGAUaeJk63rNNkx80d' -O exhibition-4-sample.mp4\n",
        "\n",
        "SAMPLE_VIDEO_64 = f\"{HOME}/exhibition-64-sample.mp4\"\n",
        "SAMPLE_VIDEO_32 = f\"{HOME}/exhibition-32-sample.mp4\"\n",
        "SAMPLE_VIDEO_4 = f\"{HOME}/exhibition-4-sample.mp4\"\n",
        "\n",
        "video_info = sv.VideoInfo.from_video_path(SAMPLE_VIDEO_64)\n"
      ],
      "metadata": {
        "colab": {
          "base_uri": "https://localhost:8080/"
        },
        "id": "BKe_RNpIh3fP",
        "outputId": "7f1bbf96-dab8-4622-ec75-9c528edd4df3"
      },
      "execution_count": 4,
      "outputs": [
        {
          "output_type": "stream",
          "name": "stdout",
          "text": [
            "/content/yolov5\n",
            "--2023-12-02 11:43:32--  https://drive.google.com/uc?export=download&id=1vcKRPpv7ve1St-0rynhGa-H3lHMyCNt9\n",
            "Resolving drive.google.com (drive.google.com)... 142.250.157.102, 142.250.157.138, 142.250.157.101, ...\n",
            "Connecting to drive.google.com (drive.google.com)|142.250.157.102|:443... connected.\n",
            "HTTP request sent, awaiting response... 303 See Other\n",
            "Location: https://doc-08-0g-docs.googleusercontent.com/docs/securesc/ha0ro937gcuc7l7deffksulhg5h7mbp1/59kdtnt5a1l87ge7mesi0hloiffp2n9d/1701517350000/09162896557746415517/*/1vcKRPpv7ve1St-0rynhGa-H3lHMyCNt9?e=download&uuid=bce845e3-e24a-450b-8bab-748f6a1b0588 [following]\n",
            "Warning: wildcards not supported in HTTP.\n",
            "--2023-12-02 11:43:34--  https://doc-08-0g-docs.googleusercontent.com/docs/securesc/ha0ro937gcuc7l7deffksulhg5h7mbp1/59kdtnt5a1l87ge7mesi0hloiffp2n9d/1701517350000/09162896557746415517/*/1vcKRPpv7ve1St-0rynhGa-H3lHMyCNt9?e=download&uuid=bce845e3-e24a-450b-8bab-748f6a1b0588\n",
            "Resolving doc-08-0g-docs.googleusercontent.com (doc-08-0g-docs.googleusercontent.com)... 142.251.8.132, 2404:6800:4008:c15::84\n",
            "Connecting to doc-08-0g-docs.googleusercontent.com (doc-08-0g-docs.googleusercontent.com)|142.251.8.132|:443... connected.\n",
            "HTTP request sent, awaiting response... 200 OK\n",
            "Length: 3936497 (3.8M) [video/mp4]\n",
            "Saving to: ‘exhibition-64-sample.mp4’\n",
            "\n",
            "exhibition-64-sampl 100%[===================>]   3.75M  --.-KB/s    in 0.02s   \n",
            "\n",
            "2023-12-02 11:43:34 (206 MB/s) - ‘exhibition-64-sample.mp4’ saved [3936497/3936497]\n",
            "\n",
            "--2023-12-02 11:43:34--  https://drive.google.com/uc?export=download&id=1ERyxsKGZmJZFgOBKGwVguQFqGJbYu575\n",
            "Resolving drive.google.com (drive.google.com)... 142.250.157.102, 142.250.157.138, 142.250.157.101, ...\n",
            "Connecting to drive.google.com (drive.google.com)|142.250.157.102|:443... connected.\n",
            "HTTP request sent, awaiting response... 303 See Other\n",
            "Location: https://doc-0o-0g-docs.googleusercontent.com/docs/securesc/ha0ro937gcuc7l7deffksulhg5h7mbp1/alkbvlq6gtanm2368p5f6kavkrfj3pdi/1701517350000/09162896557746415517/*/1ERyxsKGZmJZFgOBKGwVguQFqGJbYu575?e=download&uuid=04c81c27-a22c-44c8-ae3e-3e2f4121c4ce [following]\n",
            "Warning: wildcards not supported in HTTP.\n",
            "--2023-12-02 11:43:37--  https://doc-0o-0g-docs.googleusercontent.com/docs/securesc/ha0ro937gcuc7l7deffksulhg5h7mbp1/alkbvlq6gtanm2368p5f6kavkrfj3pdi/1701517350000/09162896557746415517/*/1ERyxsKGZmJZFgOBKGwVguQFqGJbYu575?e=download&uuid=04c81c27-a22c-44c8-ae3e-3e2f4121c4ce\n",
            "Resolving doc-0o-0g-docs.googleusercontent.com (doc-0o-0g-docs.googleusercontent.com)... 142.251.8.132, 2404:6800:4008:c15::84\n",
            "Connecting to doc-0o-0g-docs.googleusercontent.com (doc-0o-0g-docs.googleusercontent.com)|142.251.8.132|:443... connected.\n",
            "HTTP request sent, awaiting response... 200 OK\n",
            "Length: 3248932 (3.1M) [video/mp4]\n",
            "Saving to: ‘exhibition-32-sample.mp4’\n",
            "\n",
            "exhibition-32-sampl 100%[===================>]   3.10M  --.-KB/s    in 0.02s   \n",
            "\n",
            "2023-12-02 11:43:38 (143 MB/s) - ‘exhibition-32-sample.mp4’ saved [3248932/3248932]\n",
            "\n",
            "--2023-12-02 11:43:38--  https://drive.google.com/uc?export=download&id=1Mcp8xRYhsaxE3SfGAUaeJk63rNNkx80d\n",
            "Resolving drive.google.com (drive.google.com)... 142.250.157.102, 142.250.157.138, 142.250.157.101, ...\n",
            "Connecting to drive.google.com (drive.google.com)|142.250.157.102|:443... connected.\n",
            "HTTP request sent, awaiting response... 303 See Other\n",
            "Location: https://doc-10-0g-docs.googleusercontent.com/docs/securesc/ha0ro937gcuc7l7deffksulhg5h7mbp1/hoo91ql8vfel0siob11j0829e38jrl7e/1701517350000/09162896557746415517/*/1Mcp8xRYhsaxE3SfGAUaeJk63rNNkx80d?e=download&uuid=282dc967-a6ca-458b-983b-58f7f919a455 [following]\n",
            "Warning: wildcards not supported in HTTP.\n",
            "--2023-12-02 11:43:40--  https://doc-10-0g-docs.googleusercontent.com/docs/securesc/ha0ro937gcuc7l7deffksulhg5h7mbp1/hoo91ql8vfel0siob11j0829e38jrl7e/1701517350000/09162896557746415517/*/1Mcp8xRYhsaxE3SfGAUaeJk63rNNkx80d?e=download&uuid=282dc967-a6ca-458b-983b-58f7f919a455\n",
            "Resolving doc-10-0g-docs.googleusercontent.com (doc-10-0g-docs.googleusercontent.com)... 142.251.8.132, 2404:6800:4008:c15::84\n",
            "Connecting to doc-10-0g-docs.googleusercontent.com (doc-10-0g-docs.googleusercontent.com)|142.251.8.132|:443... connected.\n",
            "HTTP request sent, awaiting response... 200 OK\n",
            "Length: 4637026 (4.4M) [video/mp4]\n",
            "Saving to: ‘exhibition-4-sample.mp4’\n",
            "\n",
            "exhibition-4-sample 100%[===================>]   4.42M  --.-KB/s    in 0.05s   \n",
            "\n",
            "2023-12-02 11:43:41 (85.8 MB/s) - ‘exhibition-4-sample.mp4’ saved [4637026/4637026]\n",
            "\n"
          ]
        }
      ]
    },
    {
      "cell_type": "markdown",
      "source": [
        "## Polygon 설정"
      ],
      "metadata": {
        "id": "OD0Fhbbw-HMP"
      }
    },
    {
      "cell_type": "code",
      "source": [
        "zone_coords = np.array([[378,260],[688,260],[1080,1745],[0,1745]])\n",
        "polygon = zone_coords"
      ],
      "metadata": {
        "id": "Y8S7k6W3-KRH"
      },
      "execution_count": 5,
      "outputs": []
    },
    {
      "cell_type": "markdown",
      "source": [
        "## Annotator 설정"
      ],
      "metadata": {
        "id": "NRwf4KMCjs-E"
      }
    },
    {
      "cell_type": "markdown",
      "source": [
        "### ZoneAnnotator\n",
        "\n",
        "Polygon 값에 따라 구역을 표시하는 Annotator"
      ],
      "metadata": {
        "id": "cxR5eiilB3fC"
      }
    },
    {
      "cell_type": "code",
      "source": [
        "zone = sv.PolygonZone(polygon=polygon, frame_resolution_wh=video_info.resolution_wh)\n",
        "\n",
        "zone_annotator = sv.PolygonZoneAnnotator(\n",
        "        zone=zone,\n",
        "        color=colors.by_idx(0),\n",
        "        thickness=8,\n",
        "        # text_thickness=8,\n",
        "        # text_scale=4\n",
        "    )"
      ],
      "metadata": {
        "id": "pCFa7UzcB1Em"
      },
      "execution_count": 6,
      "outputs": []
    },
    {
      "cell_type": "markdown",
      "source": [
        "### BoundingBoxAnnotator\n",
        "\n",
        "사람을 감싸는 직사각형 박스"
      ],
      "metadata": {
        "id": "3-ftImHskNkY"
      }
    },
    {
      "cell_type": "code",
      "source": [
        "bounding_box_annotator = sv.BoundingBoxAnnotator(color=colors.by_idx(0),thickness=6)"
      ],
      "metadata": {
        "id": "TXcD6pxKju6V"
      },
      "execution_count": 7,
      "outputs": []
    },
    {
      "cell_type": "markdown",
      "source": [
        "### TraceAnnotator\n",
        "\n",
        "사람의 동선을 따라가는 꼬리"
      ],
      "metadata": {
        "id": "_DqLE2tOkron"
      }
    },
    {
      "cell_type": "code",
      "source": [
        "trace_annotator = sv.TraceAnnotator(color=colors.by_idx(0), trace_length=50,thickness=4)"
      ],
      "metadata": {
        "id": "FdSUQcKYkxQf"
      },
      "execution_count": 8,
      "outputs": []
    },
    {
      "cell_type": "markdown",
      "source": [
        "### MaskAnnotator\n",
        "\n",
        "사람을 덮는 Mask"
      ],
      "metadata": {
        "id": "Fpw6o52ilQB2"
      }
    },
    {
      "cell_type": "code",
      "source": [
        "mask_annotator = sv.MaskAnnotator(color=colors.by_idx(0))"
      ],
      "metadata": {
        "id": "wwKqfa19lVs2"
      },
      "execution_count": 9,
      "outputs": []
    },
    {
      "cell_type": "markdown",
      "source": [
        "### LabelAnnotator"
      ],
      "metadata": {
        "id": "9Pc4H8mPUX9m"
      }
    },
    {
      "cell_type": "code",
      "source": [
        "label_annotator = sv.LabelAnnotator(color=colors.by_idx(0))"
      ],
      "metadata": {
        "id": "_dxXx6-GUafk"
      },
      "execution_count": 10,
      "outputs": []
    },
    {
      "cell_type": "markdown",
      "source": [
        "# 3. 데이터 분석"
      ],
      "metadata": {
        "id": "Vk4fcHm_iw1B"
      }
    },
    {
      "cell_type": "code",
      "source": [
        "tracker = sv.ByteTrack()\n",
        "\n",
        "each_coord = []\n",
        "\n",
        "def add_coordinates(detections, frame_number):\n",
        "    global each_coord\n",
        "\n",
        "    each_coord.append([])\n",
        "\n",
        "    for detection in detections:\n",
        "\n",
        "      coord = detection[0]\n",
        "\n",
        "      center_x = int((coord[0] + coord[2]) / 2)\n",
        "      bottom_y = int(coord[3])\n",
        "\n",
        "      tracker_id = detection[4]\n",
        "\n",
        "      each_coord[-1].append((frame_number, tracker_id, center_x, bottom_y))\n",
        "\n",
        "def process_frame(frame:np.ndarray, i) -> np.ndarray:\n",
        "    # if i < 24:\n",
        "      print(f\"Processing frame {i}...\")\n",
        "\n",
        "      results = model(frame,size=1280)\n",
        "      detections = sv.Detections.from_yolov5(results)\n",
        "\n",
        "      mask = zone.trigger(detections=detections)\n",
        "      detections = detections[mask]\n",
        "\n",
        "      detections = detections[(detections.class_id == 0) & (detections.confidence > 0.2)]\n",
        "      detections = tracker.update_with_detections(detections)\n",
        "\n",
        "      labels = [\n",
        "          str(tracker_id)\n",
        "          for tracker_id\n",
        "          in detections.tracker_id\n",
        "      ]\n",
        "\n",
        "      # print(detections)\n",
        "\n",
        "      frame = zone_annotator.annotate(scene=frame.copy())\n",
        "      frame = bounding_box_annotator.annotate(scene=frame.copy(), detections=detections)\n",
        "      frame = trace_annotator.annotate(scene=frame.copy(), detections=detections)\n",
        "      frame = mask_annotator.annotate(scene=frame.copy(), detections=detections)\n",
        "      frame = label_annotator.annotate(scene=frame.copy(), detections=detections, labels=labels)\n",
        "\n",
        "      if i % 4 == 0:\n",
        "        add_coordinates(detections, i)\n",
        "\n",
        "\n",
        "      # 실시간으로 프레임 출력\n",
        "      # clear_output(wait=True)\n",
        "      # _, buffer = cv2.imencode('.jpg', frame)\n",
        "      # display(Image(data=buffer.tobytes()))\n",
        "\n",
        "      return frame\n",
        "\n",
        "\n",
        "sv.process_video(source_path=SAMPLE_VIDEO_64, target_path=f\"{HOME}/result.mp4\",callback=process_frame)\n",
        "\n",
        "for coords in each_coord:\n",
        "  print(coords)"
      ],
      "metadata": {
        "colab": {
          "base_uri": "https://localhost:8080/"
        },
        "id": "FBOXuBrjjQEk",
        "outputId": "fdaf1fcd-ed2c-40da-87e7-c36910b15b44"
      },
      "execution_count": 12,
      "outputs": [
        {
          "output_type": "stream",
          "name": "stdout",
          "text": [
            "Processing frame 0...\n",
            "Processing frame 1...\n",
            "Processing frame 2...\n",
            "Processing frame 3...\n",
            "Processing frame 4...\n",
            "Processing frame 5...\n",
            "Processing frame 6...\n",
            "Processing frame 7...\n",
            "Processing frame 8...\n",
            "Processing frame 9...\n",
            "Processing frame 10...\n",
            "Processing frame 11...\n",
            "Processing frame 12...\n",
            "Processing frame 13...\n",
            "Processing frame 14...\n",
            "Processing frame 15...\n",
            "Processing frame 16...\n",
            "Processing frame 17...\n",
            "Processing frame 18...\n",
            "Processing frame 19...\n",
            "Processing frame 20...\n",
            "Processing frame 21...\n",
            "Processing frame 22...\n",
            "Processing frame 23...\n",
            "Processing frame 24...\n",
            "Processing frame 25...\n",
            "Processing frame 26...\n",
            "Processing frame 27...\n",
            "Processing frame 28...\n",
            "Processing frame 29...\n",
            "Processing frame 30...\n",
            "Processing frame 31...\n",
            "Processing frame 32...\n",
            "Processing frame 33...\n",
            "Processing frame 34...\n",
            "Processing frame 35...\n",
            "Processing frame 36...\n",
            "Processing frame 37...\n",
            "Processing frame 38...\n",
            "Processing frame 39...\n",
            "Processing frame 40...\n",
            "Processing frame 41...\n",
            "Processing frame 42...\n",
            "Processing frame 43...\n",
            "Processing frame 44...\n",
            "Processing frame 45...\n",
            "Processing frame 46...\n",
            "Processing frame 47...\n",
            "Processing frame 48...\n",
            "Processing frame 49...\n",
            "Processing frame 50...\n",
            "Processing frame 51...\n",
            "Processing frame 52...\n",
            "Processing frame 53...\n",
            "Processing frame 54...\n",
            "Processing frame 55...\n",
            "Processing frame 56...\n",
            "Processing frame 57...\n",
            "Processing frame 58...\n",
            "Processing frame 59...\n",
            "Processing frame 60...\n",
            "Processing frame 61...\n",
            "Processing frame 62...\n",
            "Processing frame 63...\n",
            "Processing frame 64...\n",
            "Processing frame 65...\n",
            "Processing frame 66...\n",
            "Processing frame 67...\n",
            "Processing frame 68...\n",
            "Processing frame 69...\n",
            "Processing frame 70...\n",
            "Processing frame 71...\n",
            "Processing frame 72...\n",
            "Processing frame 73...\n",
            "Processing frame 74...\n",
            "Processing frame 75...\n",
            "Processing frame 76...\n",
            "Processing frame 77...\n",
            "Processing frame 78...\n",
            "Processing frame 79...\n",
            "Processing frame 80...\n",
            "Processing frame 81...\n",
            "Processing frame 82...\n",
            "Processing frame 83...\n",
            "Processing frame 84...\n",
            "Processing frame 85...\n",
            "Processing frame 86...\n",
            "Processing frame 87...\n",
            "Processing frame 88...\n",
            "Processing frame 89...\n",
            "Processing frame 90...\n",
            "Processing frame 91...\n",
            "Processing frame 92...\n",
            "Processing frame 93...\n",
            "Processing frame 94...\n",
            "Processing frame 95...\n",
            "Processing frame 96...\n",
            "Processing frame 97...\n",
            "Processing frame 98...\n",
            "Processing frame 99...\n",
            "Processing frame 100...\n",
            "Processing frame 101...\n",
            "Processing frame 102...\n",
            "Processing frame 103...\n",
            "Processing frame 104...\n",
            "Processing frame 105...\n",
            "Processing frame 106...\n",
            "Processing frame 107...\n",
            "Processing frame 108...\n",
            "Processing frame 109...\n",
            "Processing frame 110...\n",
            "Processing frame 111...\n",
            "Processing frame 112...\n",
            "Processing frame 113...\n",
            "Processing frame 114...\n",
            "Processing frame 115...\n",
            "Processing frame 116...\n",
            "Processing frame 117...\n",
            "Processing frame 118...\n",
            "Processing frame 119...\n",
            "Processing frame 120...\n",
            "Processing frame 121...\n",
            "Processing frame 122...\n",
            "Processing frame 123...\n",
            "Processing frame 124...\n",
            "Processing frame 125...\n",
            "Processing frame 126...\n",
            "Processing frame 127...\n",
            "Processing frame 128...\n",
            "Processing frame 129...\n",
            "Processing frame 130...\n",
            "Processing frame 131...\n",
            "Processing frame 132...\n",
            "Processing frame 133...\n",
            "Processing frame 134...\n",
            "Processing frame 135...\n",
            "Processing frame 136...\n",
            "Processing frame 137...\n",
            "Processing frame 138...\n",
            "Processing frame 139...\n",
            "Processing frame 140...\n",
            "Processing frame 141...\n",
            "Processing frame 142...\n",
            "Processing frame 143...\n",
            "Processing frame 144...\n",
            "Processing frame 145...\n",
            "Processing frame 146...\n",
            "Processing frame 147...\n",
            "Processing frame 148...\n",
            "Processing frame 149...\n",
            "Processing frame 150...\n",
            "Processing frame 151...\n",
            "Processing frame 152...\n",
            "Processing frame 153...\n",
            "Processing frame 154...\n",
            "Processing frame 155...\n",
            "Processing frame 156...\n",
            "Processing frame 157...\n",
            "Processing frame 158...\n",
            "Processing frame 159...\n",
            "Processing frame 160...\n",
            "Processing frame 161...\n",
            "Processing frame 162...\n",
            "Processing frame 163...\n",
            "Processing frame 164...\n",
            "Processing frame 165...\n",
            "Processing frame 166...\n",
            "Processing frame 167...\n",
            "Processing frame 168...\n",
            "Processing frame 169...\n",
            "Processing frame 170...\n",
            "Processing frame 171...\n",
            "Processing frame 172...\n",
            "Processing frame 173...\n",
            "Processing frame 174...\n",
            "Processing frame 175...\n",
            "Processing frame 176...\n",
            "Processing frame 177...\n",
            "Processing frame 178...\n",
            "Processing frame 179...\n",
            "Processing frame 180...\n",
            "Processing frame 181...\n",
            "Processing frame 182...\n",
            "Processing frame 183...\n",
            "Processing frame 184...\n",
            "Processing frame 185...\n",
            "Processing frame 186...\n",
            "Processing frame 187...\n",
            "Processing frame 188...\n",
            "Processing frame 189...\n",
            "Processing frame 190...\n",
            "Processing frame 191...\n",
            "Processing frame 192...\n",
            "Processing frame 193...\n",
            "Processing frame 194...\n",
            "Processing frame 195...\n",
            "Processing frame 196...\n",
            "Processing frame 197...\n",
            "Processing frame 198...\n",
            "Processing frame 199...\n",
            "Processing frame 200...\n",
            "Processing frame 201...\n",
            "Processing frame 202...\n",
            "Processing frame 203...\n",
            "Processing frame 204...\n",
            "Processing frame 205...\n",
            "Processing frame 206...\n",
            "Processing frame 207...\n",
            "Processing frame 208...\n",
            "Processing frame 209...\n",
            "Processing frame 210...\n",
            "Processing frame 211...\n",
            "Processing frame 212...\n",
            "Processing frame 213...\n",
            "Processing frame 214...\n",
            "Processing frame 215...\n",
            "Processing frame 216...\n",
            "Processing frame 217...\n",
            "Processing frame 218...\n",
            "Processing frame 219...\n",
            "Processing frame 220...\n",
            "Processing frame 221...\n",
            "Processing frame 222...\n",
            "Processing frame 223...\n",
            "Processing frame 224...\n",
            "Processing frame 225...\n",
            "Processing frame 226...\n",
            "Processing frame 227...\n",
            "Processing frame 228...\n",
            "Processing frame 229...\n",
            "Processing frame 230...\n",
            "Processing frame 231...\n",
            "Processing frame 232...\n",
            "Processing frame 233...\n",
            "Processing frame 234...\n",
            "Processing frame 235...\n",
            "Processing frame 236...\n",
            "Processing frame 237...\n",
            "Processing frame 238...\n",
            "Processing frame 239...\n",
            "[(0, 19, 624, 1023), (0, 20, 293, 1712), (0, 21, 575, 490), (0, 22, 544, 433), (0, 23, 602, 684), (0, 24, 459, 324), (0, 25, 496, 893), (0, 26, 586, 779), (0, 27, 542, 1077), (0, 28, 276, 974), (0, 29, 355, 956), (0, 30, 414, 1555), (0, 31, 383, 542), (0, 32, 273, 1215), (0, 33, 344, 1144), (0, 34, 562, 1280)]\n",
            "[(4, 19, 614, 990), (4, 20, 288, 1704), (4, 21, 574, 492), (4, 22, 534, 443), (4, 23, 605, 686), (4, 24, 476, 326), (4, 25, 477, 886), (4, 26, 580, 777), (4, 27, 545, 1054), (4, 28, 275, 980), (4, 29, 355, 958), (4, 31, 382, 542), (4, 32, 273, 1211), (4, 33, 341, 1141), (4, 34, 558, 1281), (4, 30, 409, 1548)]\n",
            "[(8, 19, 601, 983), (8, 20, 289, 1707), (8, 21, 574, 485), (8, 22, 530, 447), (8, 23, 607, 689), (8, 24, 490, 324), (8, 25, 471, 883), (8, 26, 581, 776), (8, 27, 550, 1044), (8, 28, 277, 982), (8, 29, 356, 958), (8, 31, 383, 543), (8, 32, 273, 1211), (8, 33, 349, 1145), (8, 34, 551, 1277), (8, 30, 411, 1550)]\n",
            "[(12, 19, 601, 980), (12, 20, 277, 1701), (12, 21, 573, 486), (12, 22, 524, 451), (12, 23, 614, 696), (12, 24, 501, 327), (12, 25, 466, 883), (12, 26, 585, 775), (12, 27, 556, 1048), (12, 28, 277, 986), (12, 29, 354, 958), (12, 31, 382, 542), (12, 32, 271, 1203), (12, 33, 347, 1155), (12, 34, 544, 1282), (12, 30, 402, 1554)]\n",
            "[(16, 19, 601, 958), (16, 20, 293, 1700), (16, 21, 570, 477), (16, 22, 521, 465), (16, 23, 619, 697), (16, 25, 461, 870), (16, 26, 585, 774), (16, 27, 557, 1048), (16, 28, 276, 983), (16, 29, 360, 959), (16, 31, 382, 542), (16, 32, 268, 1199), (16, 33, 344, 1165), (16, 34, 537, 1272), (16, 30, 407, 1557), (16, 37, 332, 1366)]\n",
            "[(20, 19, 598, 932), (20, 20, 311, 1695), (20, 21, 569, 473), (20, 22, 521, 473), (20, 23, 628, 697), (20, 25, 453, 841), (20, 26, 589, 757), (20, 27, 553, 1047), (20, 28, 277, 979), (20, 29, 361, 958), (20, 31, 382, 541), (20, 32, 269, 1200), (20, 33, 344, 1169), (20, 34, 538, 1255), (20, 30, 416, 1553), (20, 37, 333, 1366)]\n",
            "[(24, 19, 589, 931), (24, 20, 310, 1686), (24, 21, 569, 473), (24, 22, 517, 470), (24, 23, 628, 695), (24, 25, 447, 833), (24, 26, 596, 758), (24, 27, 542, 1049), (24, 28, 276, 981), (24, 29, 360, 958), (24, 31, 383, 540), (24, 32, 271, 1198), (24, 33, 343, 1166), (24, 34, 537, 1244), (24, 30, 435, 1550), (24, 37, 341, 1369), (24, 24, 551, 325), (24, 38, 174, 1537)]\n",
            "[(28, 19, 577, 921), (28, 20, 314, 1667), (28, 21, 571, 469), (28, 22, 516, 481), (28, 23, 626, 691), (28, 25, 440, 833), (28, 26, 603, 768), (28, 27, 536, 1045), (28, 28, 276, 973), (28, 29, 363, 957), (28, 31, 383, 541), (28, 32, 271, 1198), (28, 33, 343, 1166), (28, 34, 536, 1243), (28, 30, 453, 1549), (28, 37, 341, 1369), (28, 38, 173, 1544), (28, 24, 569, 323)]\n",
            "[(32, 19, 553, 894), (32, 20, 316, 1647), (32, 21, 574, 461), (32, 22, 516, 486), (32, 23, 630, 695), (32, 25, 435, 803), (32, 26, 608, 770), (32, 27, 539, 1036), (32, 28, 276, 977), (32, 29, 364, 958), (32, 31, 382, 540), (32, 33, 346, 1169), (32, 34, 535, 1242), (32, 30, 460, 1550), (32, 37, 340, 1367), (32, 38, 172, 1540)]\n",
            "[(36, 19, 536, 853), (36, 20, 316, 1628), (36, 21, 576, 455), (36, 22, 513, 491), (36, 23, 634, 696), (36, 25, 433, 790), (36, 26, 610, 769), (36, 27, 524, 1023), (36, 28, 276, 976), (36, 29, 365, 958), (36, 31, 382, 540), (36, 33, 346, 1165), (36, 30, 463, 1548), (36, 37, 339, 1367), (36, 38, 170, 1544), (36, 24, 601, 324)]\n",
            "[(40, 19, 527, 834), (40, 20, 320, 1633), (40, 21, 575, 450), (40, 22, 512, 499), (40, 23, 638, 695), (40, 25, 433, 794), (40, 26, 610, 768), (40, 27, 524, 1018), (40, 28, 275, 978), (40, 29, 363, 961), (40, 31, 382, 541), (40, 33, 344, 1164), (40, 30, 469, 1548), (40, 37, 339, 1367), (40, 38, 170, 1546), (40, 24, 616, 323), (40, 34, 543, 1223)]\n",
            "[(44, 19, 514, 832), (44, 20, 319, 1632), (44, 21, 573, 448), (44, 22, 513, 510), (44, 23, 643, 697), (44, 25, 438, 780), (44, 26, 609, 769), (44, 27, 522, 1021), (44, 28, 275, 980), (44, 29, 364, 961), (44, 31, 382, 541), (44, 33, 343, 1165), (44, 30, 486, 1548), (44, 37, 339, 1364), (44, 38, 169, 1546), (44, 24, 634, 321), (44, 34, 548, 1241), (44, 40, 420, 1431), (44, 32, 268, 1201)]\n",
            "[(48, 19, 505, 850), (48, 20, 318, 1637), (48, 21, 570, 449), (48, 22, 518, 516), (48, 23, 643, 695), (48, 25, 439, 755), (48, 26, 611, 767), (48, 27, 524, 1017), (48, 28, 275, 981), (48, 29, 362, 962), (48, 31, 382, 541), (48, 33, 344, 1166), (48, 30, 493, 1545), (48, 37, 339, 1365), (48, 38, 170, 1547), (48, 24, 654, 325), (48, 34, 552, 1241), (48, 40, 420, 1431), (48, 32, 269, 1201)]\n",
            "[(52, 19, 482, 895), (52, 20, 317, 1631), (52, 21, 567, 442), (52, 22, 519, 520), (52, 23, 644, 691), (52, 25, 440, 745), (52, 26, 612, 765), (52, 27, 533, 1017), (52, 28, 275, 982), (52, 29, 363, 963), (52, 31, 382, 539), (52, 33, 345, 1164), (52, 30, 495, 1545), (52, 37, 338, 1365), (52, 38, 169, 1546), (52, 24, 665, 325), (52, 34, 555, 1241), (52, 40, 419, 1432)]\n",
            "[(56, 19, 473, 900), (56, 20, 323, 1618), (56, 21, 567, 438), (56, 22, 518, 533), (56, 23, 642, 691), (56, 25, 440, 732), (56, 26, 612, 766), (56, 27, 538, 1018), (56, 28, 274, 977), (56, 29, 363, 964), (56, 31, 381, 539), (56, 33, 349, 1163), (56, 30, 496, 1546), (56, 37, 337, 1365), (56, 38, 170, 1546), (56, 34, 557, 1229), (56, 40, 417, 1431), (56, 32, 270, 1199)]\n",
            "[(60, 19, 464, 900), (60, 20, 327, 1615), (60, 21, 568, 435), (60, 22, 519, 544), (60, 23, 641, 692), (60, 25, 438, 717), (60, 26, 612, 768), (60, 27, 542, 1003), (60, 28, 274, 984), (60, 29, 363, 961), (60, 31, 381, 542), (60, 33, 350, 1162), (60, 30, 496, 1546), (60, 37, 337, 1362), (60, 38, 170, 1545), (60, 34, 554, 1210), (60, 40, 417, 1432), (60, 32, 268, 1204)]\n",
            "[(64, 19, 447, 901), (64, 20, 328, 1615), (64, 21, 569, 430), (64, 22, 521, 545), (64, 23, 642, 691), (64, 25, 439, 713), (64, 26, 614, 767), (64, 27, 545, 981), (64, 28, 274, 984), (64, 29, 363, 959), (64, 31, 382, 540), (64, 33, 351, 1162), (64, 30, 497, 1547), (64, 37, 337, 1366), (64, 38, 168, 1546), (64, 34, 551, 1196), (64, 40, 418, 1433), (64, 32, 266, 1203)]\n",
            "[(68, 19, 436, 902), (68, 20, 329, 1617), (68, 21, 572, 424), (68, 22, 525, 560), (68, 23, 643, 691), (68, 25, 442, 710), (68, 26, 613, 767), (68, 27, 546, 962), (68, 28, 273, 978), (68, 29, 365, 960), (68, 33, 352, 1156), (68, 30, 497, 1545), (68, 37, 337, 1370), (68, 38, 169, 1546), (68, 34, 550, 1195), (68, 40, 420, 1432), (68, 31, 382, 540)]\n",
            "[(72, 19, 428, 902), (72, 20, 333, 1615), (72, 21, 571, 420), (72, 22, 531, 565), (72, 23, 643, 690), (72, 25, 445, 701), (72, 26, 613, 765), (72, 27, 545, 959), (72, 28, 273, 974), (72, 29, 366, 955), (72, 33, 352, 1153), (72, 30, 493, 1544), (72, 37, 337, 1361), (72, 38, 167, 1548), (72, 34, 547, 1197), (72, 40, 420, 1432), (72, 31, 381, 539)]\n",
            "[(76, 19, 405, 900), (76, 20, 337, 1615), (76, 21, 570, 421), (76, 22, 537, 565), (76, 23, 643, 689), (76, 25, 447, 682), (76, 26, 617, 764), (76, 27, 543, 964), (76, 28, 273, 981), (76, 29, 373, 1001), (76, 33, 351, 1154), (76, 30, 480, 1549), (76, 37, 338, 1362), (76, 38, 166, 1548), (76, 34, 536, 1198), (76, 40, 422, 1429), (76, 31, 382, 540), (76, 41, 684, 1701), (76, 42, 407, 530)]\n",
            "[(80, 20, 340, 1619), (80, 21, 567, 415), (80, 22, 540, 577), (80, 23, 643, 689), (80, 25, 448, 681), (80, 26, 615, 765), (80, 27, 539, 959), (80, 28, 273, 990), (80, 33, 349, 1155), (80, 30, 470, 1549), (80, 37, 338, 1360), (80, 38, 166, 1548), (80, 34, 528, 1201), (80, 40, 418, 1428), (80, 31, 380, 540), (80, 41, 688, 1676), (80, 42, 408, 528), (80, 32, 268, 1195)]\n",
            "[(84, 20, 342, 1625), (84, 21, 564, 409), (84, 22, 541, 594), (84, 23, 643, 690), (84, 25, 447, 680), (84, 26, 614, 765), (84, 27, 538, 956), (84, 28, 274, 990), (84, 33, 351, 1152), (84, 30, 467, 1548), (84, 37, 337, 1360), (84, 38, 165, 1548), (84, 34, 522, 1182), (84, 31, 376, 541), (84, 41, 690, 1678), (84, 42, 409, 525), (84, 32, 269, 1197)]\n",
            "[(88, 20, 342, 1624), (88, 21, 564, 405), (88, 22, 541, 597), (88, 23, 643, 689), (88, 25, 446, 659), (88, 26, 617, 765), (88, 27, 538, 946), (88, 28, 273, 987), (88, 33, 353, 1163), (88, 30, 456, 1549), (88, 37, 336, 1360), (88, 38, 165, 1547), (88, 34, 521, 1169), (88, 31, 376, 540), (88, 41, 691, 1678), (88, 42, 410, 515), (88, 32, 267, 1198)]\n",
            "[(92, 20, 345, 1623), (92, 21, 565, 406), (92, 22, 541, 600), (92, 23, 643, 688), (92, 25, 447, 648), (92, 26, 618, 765), (92, 27, 542, 951), (92, 28, 272, 985), (92, 33, 358, 1167), (92, 30, 450, 1553), (92, 37, 334, 1360), (92, 38, 166, 1548), (92, 34, 525, 1168), (92, 31, 375, 540), (92, 41, 699, 1650), (92, 32, 268, 1195)]\n",
            "[(96, 20, 345, 1624), (96, 21, 568, 400), (96, 22, 541, 618), (96, 23, 642, 690), (96, 25, 451, 650), (96, 26, 618, 766), (96, 27, 546, 935), (96, 28, 272, 990), (96, 33, 364, 1168), (96, 30, 434, 1557), (96, 37, 333, 1357), (96, 38, 167, 1548), (96, 34, 533, 1169), (96, 31, 379, 545), (96, 41, 702, 1593), (96, 32, 267, 1196)]\n",
            "[(100, 20, 337, 1615), (100, 21, 573, 397), (100, 22, 542, 633), (100, 23, 642, 690), (100, 25, 454, 635), (100, 26, 618, 764), (100, 27, 552, 922), (100, 28, 273, 991), (100, 33, 364, 1165), (100, 30, 425, 1562), (100, 37, 336, 1360), (100, 38, 168, 1548), (100, 34, 541, 1169), (100, 31, 381, 545), (100, 41, 699, 1571), (100, 32, 268, 1192), (100, 19, 325, 861), (100, 44, 360, 951)]\n",
            "[(104, 20, 333, 1617), (104, 21, 575, 392), (104, 22, 542, 633), (104, 23, 643, 689), (104, 25, 459, 619), (104, 26, 618, 763), (104, 27, 553, 921), (104, 28, 273, 1004), (104, 33, 363, 1162), (104, 30, 420, 1562), (104, 37, 338, 1357), (104, 38, 171, 1549), (104, 34, 547, 1171), (104, 31, 382, 543), (104, 41, 694, 1575), (104, 32, 269, 1192), (104, 44, 365, 948)]\n",
            "[(108, 20, 329, 1620), (108, 21, 576, 393), (108, 22, 539, 647), (108, 23, 644, 686), (108, 25, 463, 620), (108, 26, 619, 763), (108, 27, 553, 912), (108, 28, 273, 1002), (108, 33, 363, 1158), (108, 30, 425, 1563), (108, 37, 340, 1366), (108, 38, 169, 1548), (108, 34, 551, 1167), (108, 31, 383, 542), (108, 41, 688, 1570), (108, 32, 268, 1194), (108, 44, 359, 948)]\n",
            "[(112, 20, 328, 1618), (112, 21, 577, 395), (112, 22, 535, 661), (112, 23, 646, 687), (112, 25, 467, 610), (112, 26, 620, 757), (112, 27, 550, 914), (112, 28, 275, 1001), (112, 33, 363, 1158), (112, 30, 428, 1559), (112, 37, 339, 1366), (112, 38, 169, 1548), (112, 34, 554, 1166), (112, 31, 384, 542), (112, 41, 680, 1537), (112, 32, 267, 1191), (112, 44, 358, 951)]\n",
            "[(116, 20, 328, 1618), (116, 21, 577, 386), (116, 22, 527, 663), (116, 23, 646, 688), (116, 25, 471, 595), (116, 26, 620, 752), (116, 27, 544, 911), (116, 28, 279, 1014), (116, 33, 359, 1159), (116, 30, 428, 1563), (116, 37, 338, 1367), (116, 38, 169, 1548), (116, 34, 560, 1155), (116, 31, 387, 541), (116, 41, 676, 1485), (116, 44, 359, 948)]\n",
            "[(120, 20, 329, 1619), (120, 21, 578, 380), (120, 22, 527, 666), (120, 23, 646, 688), (120, 25, 474, 587), (120, 26, 627, 753), (120, 27, 537, 894), (120, 28, 279, 1008), (120, 33, 363, 1163), (120, 30, 426, 1562), (120, 37, 336, 1367), (120, 38, 169, 1547), (120, 34, 558, 1154), (120, 31, 388, 542), (120, 41, 674, 1474), (120, 44, 360, 950), (120, 32, 268, 1189)]\n",
            "[(124, 20, 331, 1621), (124, 21, 583, 379), (124, 22, 524, 692), (124, 23, 645, 688), (124, 25, 479, 586), (124, 26, 630, 753), (124, 27, 530, 888), (124, 28, 279, 1017), (124, 33, 362, 1164), (124, 30, 423, 1560), (124, 37, 337, 1366), (124, 38, 170, 1551), (124, 34, 553, 1154), (124, 41, 672, 1475), (124, 44, 359, 949), (124, 32, 269, 1194), (124, 31, 390, 541)]\n",
            "[(128, 20, 332, 1618), (128, 21, 587, 377), (128, 22, 527, 693), (128, 25, 487, 573), (128, 26, 632, 753), (128, 27, 526, 876), (128, 28, 278, 1012), (128, 33, 365, 1167), (128, 30, 423, 1559), (128, 37, 336, 1366), (128, 38, 169, 1549), (128, 34, 546, 1155), (128, 41, 667, 1473), (128, 44, 361, 946), (128, 32, 268, 1195), (128, 31, 382, 545), (128, 23, 644, 681)]\n",
            "[(132, 20, 337, 1622), (132, 21, 592, 373), (132, 22, 530, 695), (132, 25, 493, 558), (132, 26, 635, 752), (132, 27, 523, 876), (132, 28, 278, 1007), (132, 33, 364, 1168), (132, 30, 421, 1558), (132, 37, 337, 1359), (132, 38, 170, 1551), (132, 34, 538, 1145), (132, 41, 665, 1460), (132, 32, 269, 1197), (132, 31, 379, 545), (132, 45, 340, 858), (132, 46, 404, 537), (132, 44, 361, 942)]\n",
            "[(136, 20, 343, 1621), (136, 21, 600, 369), (136, 22, 531, 694), (136, 25, 497, 555), (136, 26, 637, 752), (136, 27, 521, 875), (136, 28, 279, 1019), (136, 33, 365, 1164), (136, 30, 418, 1559), (136, 37, 337, 1353), (136, 38, 169, 1548), (136, 34, 533, 1120), (136, 41, 663, 1431), (136, 32, 269, 1198), (136, 31, 377, 546), (136, 45, 344, 873), (136, 44, 361, 946), (136, 46, 403, 536)]\n",
            "[(140, 20, 353, 1623), (140, 21, 605, 369), (140, 22, 531, 688), (140, 25, 499, 552), (140, 26, 645, 751), (140, 27, 520, 871), (140, 28, 280, 1005), (140, 33, 364, 1165), (140, 30, 421, 1558), (140, 37, 338, 1362), (140, 38, 169, 1547), (140, 34, 531, 1111), (140, 41, 659, 1389), (140, 32, 269, 1195), (140, 45, 346, 848), (140, 44, 362, 950), (140, 46, 401, 538)]\n",
            "[(144, 20, 358, 1623), (144, 21, 607, 370), (144, 22, 530, 686), (144, 25, 501, 536), (144, 26, 652, 749), (144, 27, 518, 863), (144, 28, 281, 1010), (144, 33, 364, 1163), (144, 30, 420, 1556), (144, 37, 338, 1363), (144, 38, 169, 1547), (144, 34, 531, 1112), (144, 41, 654, 1389), (144, 32, 269, 1194), (144, 45, 348, 852), (144, 44, 362, 948), (144, 46, 400, 538)]\n",
            "[(148, 20, 362, 1627), (148, 21, 610, 365), (148, 22, 534, 715), (148, 25, 504, 535), (148, 26, 653, 750), (148, 27, 519, 853), (148, 28, 281, 1014), (148, 33, 365, 1161), (148, 30, 418, 1510), (148, 37, 335, 1358), (148, 38, 169, 1546), (148, 34, 535, 1107), (148, 41, 652, 1388), (148, 32, 269, 1193), (148, 44, 361, 946), (148, 46, 399, 538), (148, 47, 398, 1354), (148, 45, 346, 851)]\n",
            "[(152, 20, 369, 1630), (152, 21, 613, 359), (152, 22, 544, 767), (152, 25, 509, 528), (152, 26, 653, 752), (152, 27, 519, 848), (152, 33, 364, 1161), (152, 30, 411, 1501), (152, 37, 327, 1357), (152, 38, 168, 1547), (152, 34, 539, 1097), (152, 41, 652, 1378), (152, 32, 270, 1191), (152, 46, 396, 539), (152, 28, 280, 1003)]\n",
            "[(156, 20, 369, 1637), (156, 21, 621, 356), (156, 22, 555, 782), (156, 25, 513, 517), (156, 26, 650, 751), (156, 27, 514, 841), (156, 33, 366, 1162), (156, 30, 403, 1500), (156, 37, 329, 1354), (156, 38, 168, 1545), (156, 34, 542, 1079), (156, 41, 651, 1343), (156, 32, 271, 1195), (156, 46, 397, 538), (156, 28, 280, 1004), (156, 47, 398, 1362), (156, 45, 338, 849)]\n",
            "[(160, 20, 368, 1663), (160, 21, 628, 354), (160, 22, 561, 781), (160, 25, 517, 510), (160, 26, 648, 752), (160, 27, 508, 833), (160, 33, 367, 1163), (160, 30, 402, 1501), (160, 37, 334, 1356), (160, 38, 168, 1546), (160, 34, 544, 1060), (160, 41, 651, 1311), (160, 32, 272, 1196), (160, 46, 398, 539), (160, 28, 279, 1001), (160, 44, 358, 949)]\n",
            "[(164, 20, 363, 1673), (164, 21, 630, 352), (164, 22, 570, 811), (164, 25, 516, 511), (164, 26, 647, 751), (164, 27, 503, 831), (164, 33, 368, 1162), (164, 30, 397, 1499), (164, 37, 335, 1354), (164, 38, 167, 1546), (164, 34, 543, 1057), (164, 41, 649, 1310), (164, 32, 273, 1198), (164, 46, 398, 538), (164, 28, 280, 999), (164, 44, 359, 949), (164, 47, 410, 1396)]\n",
            "[(168, 20, 359, 1675), (168, 21, 641, 349), (168, 22, 580, 827), (168, 25, 513, 497), (168, 26, 648, 751), (168, 27, 497, 825), (168, 33, 367, 1161), (168, 30, 387, 1490), (168, 37, 342, 1354), (168, 38, 168, 1545), (168, 34, 539, 1058), (168, 41, 645, 1310), (168, 32, 274, 1198), (168, 46, 399, 538), (168, 28, 278, 996), (168, 44, 358, 949)]\n",
            "[(172, 20, 351, 1678), (172, 21, 652, 349), (172, 22, 584, 825), (172, 25, 512, 488), (172, 26, 643, 749), (172, 27, 491, 818), (172, 33, 367, 1156), (172, 30, 387, 1498), (172, 37, 345, 1346), (172, 38, 168, 1546), (172, 34, 536, 1057), (172, 41, 639, 1305), (172, 32, 275, 1199), (172, 46, 398, 539), (172, 44, 357, 950)]\n",
            "[(176, 20, 350, 1677), (176, 21, 657, 348), (176, 22, 593, 841), (176, 25, 512, 487), (176, 26, 645, 744), (176, 27, 490, 814), (176, 33, 368, 1153), (176, 30, 382, 1506), (176, 37, 346, 1341), (176, 38, 168, 1551), (176, 34, 531, 1055), (176, 41, 637, 1279), (176, 32, 275, 1199), (176, 46, 393, 541), (176, 44, 359, 949), (176, 28, 279, 996)]\n",
            "[(180, 20, 351, 1677), (180, 21, 663, 347), (180, 22, 602, 867), (180, 25, 510, 484), (180, 26, 652, 752), (180, 27, 490, 816), (180, 33, 367, 1154), (180, 30, 370, 1534), (180, 37, 343, 1332), (180, 38, 168, 1551), (180, 34, 529, 1030), (180, 41, 634, 1240), (180, 32, 276, 1199), (180, 46, 390, 542), (180, 44, 360, 949), (180, 28, 278, 995), (180, 48, 637, 693)]\n",
            "[(184, 20, 345, 1679), (184, 21, 670, 339), (184, 22, 618, 873), (184, 25, 505, 482), (184, 26, 653, 748), (184, 27, 492, 818), (184, 33, 368, 1155), (184, 30, 353, 1535), (184, 37, 346, 1334), (184, 38, 167, 1550), (184, 34, 529, 1016), (184, 41, 630, 1236), (184, 32, 275, 1197), (184, 46, 398, 539), (184, 44, 361, 949), (184, 28, 277, 1002), (184, 48, 626, 663), (184, 47, 417, 1424)]\n",
            "[(188, 20, 344, 1678), (188, 21, 679, 340), (188, 22, 626, 880), (188, 25, 498, 485), (188, 26, 654, 728), (188, 27, 496, 814), (188, 33, 370, 1156), (188, 30, 330, 1542), (188, 37, 341, 1326), (188, 38, 165, 1546), (188, 34, 530, 1018), (188, 41, 624, 1236), (188, 32, 275, 1197), (188, 46, 399, 538), (188, 44, 361, 948), (188, 28, 278, 993), (188, 48, 620, 686), (188, 47, 413, 1430)]\n",
            "[(192, 20, 349, 1676), (192, 22, 630, 916), (192, 25, 494, 486), (192, 26, 652, 724), (192, 27, 500, 806), (192, 33, 371, 1160), (192, 30, 316, 1556), (192, 37, 341, 1331), (192, 38, 167, 1546), (192, 34, 533, 1020), (192, 41, 621, 1226), (192, 32, 275, 1192), (192, 46, 390, 542), (192, 44, 360, 947), (192, 28, 279, 999), (192, 48, 616, 696), (192, 47, 412, 1431), (192, 21, 688, 340)]\n",
            "[(196, 20, 362, 1677), (196, 22, 633, 928), (196, 25, 482, 485), (196, 26, 647, 715), (196, 27, 501, 795), (196, 33, 371, 1161), (196, 30, 308, 1573), (196, 37, 341, 1334), (196, 38, 166, 1546), (196, 34, 536, 1017), (196, 41, 618, 1200), (196, 32, 273, 1191), (196, 46, 390, 541), (196, 44, 361, 948), (196, 28, 282, 999), (196, 48, 618, 703), (196, 47, 408, 1430), (196, 21, 699, 334)]\n",
            "[(200, 20, 362, 1677), (200, 22, 641, 929), (200, 25, 472, 486), (200, 26, 653, 714), (200, 27, 500, 782), (200, 33, 371, 1162), (200, 30, 303, 1568), (200, 37, 336, 1336), (200, 38, 166, 1547), (200, 34, 540, 999), (200, 41, 616, 1170), (200, 32, 273, 1190), (200, 46, 388, 542), (200, 44, 360, 948), (200, 28, 283, 1002), (200, 48, 620, 700), (200, 47, 414, 1431)]\n",
            "[(204, 20, 360, 1677), (204, 22, 650, 959), (204, 25, 461, 485), (204, 27, 498, 779), (204, 33, 372, 1161), (204, 30, 307, 1565), (204, 37, 338, 1337), (204, 38, 165, 1548), (204, 34, 541, 984), (204, 41, 615, 1167), (204, 32, 272, 1192), (204, 46, 391, 542), (204, 44, 360, 948), (204, 28, 283, 1000), (204, 48, 636, 710), (204, 47, 416, 1432)]\n",
            "[(208, 20, 357, 1680), (208, 22, 660, 980), (208, 25, 454, 489), (208, 27, 496, 776), (208, 33, 372, 1161), (208, 30, 325, 1556), (208, 37, 336, 1337), (208, 38, 164, 1548), (208, 34, 539, 980), (208, 41, 614, 1168), (208, 32, 272, 1197), (208, 46, 399, 541), (208, 44, 360, 948), (208, 28, 281, 1002), (208, 48, 644, 745), (208, 47, 410, 1431)]\n",
            "[(212, 22, 672, 979), (212, 25, 444, 489), (212, 27, 491, 768), (212, 33, 371, 1158), (212, 30, 327, 1549), (212, 37, 337, 1336), (212, 38, 163, 1548), (212, 34, 534, 976), (212, 41, 614, 1168), (212, 32, 273, 1197), (212, 46, 392, 543), (212, 44, 360, 948), (212, 28, 281, 996), (212, 48, 648, 751), (212, 47, 414, 1431), (212, 20, 354, 1683)]\n",
            "[(216, 22, 680, 999), (216, 25, 433, 485), (216, 27, 489, 762), (216, 33, 371, 1158), (216, 30, 331, 1543), (216, 37, 339, 1335), (216, 38, 164, 1549), (216, 34, 527, 971), (216, 41, 606, 1160), (216, 32, 275, 1199), (216, 46, 391, 543), (216, 44, 360, 949), (216, 28, 280, 1001), (216, 48, 648, 752), (216, 47, 418, 1428), (216, 20, 351, 1679)]\n",
            "[(220, 22, 686, 1034), (220, 25, 425, 491), (220, 27, 486, 760), (220, 33, 371, 1157), (220, 30, 337, 1587), (220, 37, 340, 1334), (220, 38, 167, 1547), (220, 34, 522, 951), (220, 41, 593, 1136), (220, 32, 275, 1199), (220, 46, 388, 545), (220, 44, 359, 949), (220, 28, 279, 991), (220, 48, 650, 755), (220, 47, 418, 1428), (220, 49, 717, 1724)]\n",
            "[(224, 22, 685, 1046), (224, 25, 423, 490), (224, 27, 480, 762), (224, 33, 370, 1153), (224, 30, 344, 1609), (224, 37, 340, 1334), (224, 38, 166, 1547), (224, 34, 518, 948), (224, 41, 591, 1117), (224, 32, 275, 1199), (224, 46, 389, 544), (224, 44, 360, 948), (224, 28, 278, 989), (224, 48, 651, 754), (224, 47, 418, 1428), (224, 49, 713, 1721), (224, 20, 356, 1681)]\n",
            "[(228, 22, 690, 1052), (228, 25, 419, 489), (228, 27, 477, 761), (228, 33, 370, 1157), (228, 37, 339, 1327), (228, 38, 167, 1547), (228, 34, 515, 948), (228, 41, 588, 1117), (228, 32, 276, 1199), (228, 46, 392, 543), (228, 44, 359, 947), (228, 28, 277, 993), (228, 48, 653, 753), (228, 47, 416, 1429), (228, 49, 700, 1681), (228, 20, 356, 1680), (228, 30, 339, 1541)]\n",
            "[(232, 22, 694, 1093), (232, 25, 409, 534), (232, 27, 476, 757), (232, 33, 371, 1158), (232, 37, 339, 1324), (232, 38, 166, 1547), (232, 34, 516, 947), (232, 41, 585, 1115), (232, 32, 277, 1198), (232, 46, 387, 543), (232, 44, 359, 947), (232, 28, 277, 994), (232, 48, 652, 753), (232, 47, 415, 1431), (232, 49, 689, 1607), (232, 20, 356, 1677), (232, 30, 344, 1533)]\n",
            "[(236, 22, 699, 1118), (236, 27, 473, 754), (236, 33, 371, 1160), (236, 37, 341, 1321), (236, 38, 166, 1549), (236, 34, 517, 944), (236, 41, 581, 1114), (236, 32, 278, 1198), (236, 46, 386, 544), (236, 44, 360, 947), (236, 28, 277, 996), (236, 48, 653, 753), (236, 47, 418, 1428), (236, 49, 684, 1597), (236, 20, 355, 1680), (236, 30, 347, 1541)]\n"
          ]
        }
      ]
    },
    {
      "cell_type": "markdown",
      "source": [
        "## 좌표 처리"
      ],
      "metadata": {
        "id": "7UgtHTNOVHpx"
      }
    },
    {
      "cell_type": "code",
      "source": [
        "src_points = np.float32([[378,260],[688,260],[1080,1745],[0,1745]])\n",
        "dst_points = np.float32([[0, 0], [100, 0], [100, 500], [0, 500]])\n",
        "\n",
        "M = cv2.getPerspectiveTransform(src_points, dst_points)\n",
        "\n",
        "trajectories = defaultdict(list)\n",
        "\n",
        "for frame_coords in each_coord:\n",
        "  for coord in frame_coords:\n",
        "    frame,obj_id, x,y = coord\n",
        "    # 좌표에 원근 변환 적용\n",
        "    transformed_coord = cv2.perspectiveTransform(np.array([[x, y]], dtype='float32').reshape(-1, 1, 2), M)\n",
        "    # 변환된 좌표를 객체 ID에 맞게 리스트에 추가\n",
        "    trajectories[obj_id].append((frame, transformed_coord[0][0][0], transformed_coord[0][0][1]))"
      ],
      "metadata": {
        "id": "BipbJVIfftiH"
      },
      "execution_count": 53,
      "outputs": []
    },
    {
      "cell_type": "code",
      "source": [
        "%matplotlib inline\n",
        "import matplotlib.pyplot as plt\n",
        "from collections import defaultdict\n",
        "\n",
        "\n",
        "\n",
        "# 원근 변환을 위한 소스 및 대상 점 정의\n",
        "src_points = np.float32([[378,260],[688,260],[1080,1745],[0,1745]])\n",
        "dst_points = np.float32([[0, 0], [100, 0], [100, 500], [0, 500]])\n",
        "\n",
        "# 원근 변환 행렬 계산\n",
        "M = cv2.getPerspectiveTransform(src_points, dst_points)\n",
        "\n",
        "# 객체별 경로를 저장할 defaultdict 생성\n",
        "trajectories = defaultdict(list)\n",
        "\n",
        "# 모든 프레임의 좌표에 대해 처리\n",
        "for frame_coords in each_coord:\n",
        "    for coord in frame_coords:\n",
        "        frame, obj_id, x, y = coord\n",
        "        # 좌표에 원근 변환 적용\n",
        "        transformed_coord = cv2.perspectiveTransform(np.array([[x, y]], dtype='float32').reshape(-1, 1, 2), M)\n",
        "        # 변환된 좌표를 객체 ID에 맞게 리스트에 추가\n",
        "        trajectories[obj_id].append((frame, transformed_coord[0][0][0], transformed_coord[0][0][1]))\n",
        "\n",
        "plt.clf()\n",
        "\n",
        "# 각 객체별로 정렬된 좌표에 따라 경로 그리기\n",
        "plt.figure(figsize=(10, 10))\n",
        "for obj_id, path in trajectories.items():\n",
        "    # 시간에 따라 경로 정렬\n",
        "    sorted_path = sorted(path, key=lambda x: x[0])\n",
        "    # 경로의 x, y 좌표를 분리\n",
        "    x_coords, y_coords = zip(*[(x, y) for _, x, y in sorted_path])\n",
        "\n",
        "    # 경로를 그림\n",
        "    plt.plot(x_coords, y_coords, marker='o', label=f'Object {obj_id}')\n",
        "\n",
        "# 시각화 설정\n",
        "# plt.legend()\n",
        "plt.xlabel('X')\n",
        "plt.ylabel('Y')\n",
        "plt.title('객체별 이동 경로')\n",
        "plt.grid(True)\n",
        "plt.axis('equal')  # 축의 스케일을 동일하게 설정\n",
        "\n",
        "plt.gca().invert_yaxis()\n",
        "\n",
        "# 결과 표시\n",
        "plt.show()\n"
      ],
      "metadata": {
        "id": "aIzDJJ7gVLGF",
        "outputId": "6ffdd845-7a6c-408f-8f93-9ae7ae7aae2a",
        "colab": {
          "base_uri": "https://localhost:8080/",
          "height": 891
        }
      },
      "execution_count": 55,
      "outputs": [
        {
          "output_type": "display_data",
          "data": {
            "text/plain": [
              "<Figure size 640x480 with 0 Axes>"
            ]
          },
          "metadata": {}
        },
        {
          "output_type": "display_data",
          "data": {
            "text/plain": [
              "<Figure size 1000x1000 with 1 Axes>"
            ],
            "image/png": "[encoded data removed]"
          },
          "metadata": {}
        }
      ]
    },
    {
      "cell_type": "markdown",
      "source": [
        "## 히트맵"
      ],
      "metadata": {
        "id": "PvNO65-gdsHI"
      }
    },
    {
      "cell_type": "code",
      "source": [
        "import numpy as np\n",
        "import matplotlib.pyplot as plt\n",
        "import seaborn as sns\n",
        "from collections import defaultdict\n",
        "\n",
        "# trajectories에서 좌표 데이터 추출\n",
        "coords = []\n",
        "for obj_id, path in trajectories.items():\n",
        "    for frame, x, y in path:\n",
        "        coords.append((x, y))\n",
        "\n",
        "# 각 좌표에 대한 빈도수 계산\n",
        "x_coords, y_coords = zip(*coords)\n",
        "heatmap, xedges, yedges = np.histogram2d(x_coords, y_coords, bins=(100, 100))\n",
        "\n",
        "# 히트맵 시각화\n",
        "plt.figure(figsize=(3, 10))\n",
        "ax = sns.heatmap(heatmap.T, cmap=\"YlGnBu\")\n",
        "ax.set_xticks(np.linspace(0, heatmap.shape[1], num=5))\n",
        "ax.set_yticks(np.linspace(0, heatmap.shape[0], num=5))\n",
        "ax.set_xticklabels(['{:.0f}'.format(x) for x in np.linspace(xedges[0], xedges[-1], num=5)])\n",
        "ax.set_yticklabels(['{:.0f}'.format(y) for y in np.linspace(yedges[0], yedges[-1], num=5)])\n",
        "\n",
        "plt.title('Heatmap of Transformed People Locations with Grids')\n",
        "plt.xlabel('Transformed X Coordinate')\n",
        "plt.ylabel('Transformed Y Coordinate')\n",
        "plt.show()\n"
      ],
      "metadata": {
        "id": "mUEQEN5UdxN4",
        "outputId": "8f7ef6c8-6324-4602-b421-aea8156269d4",
        "colab": {
          "base_uri": "https://localhost:8080/",
          "height": 879
        }
      },
      "execution_count": 65,
      "outputs": [
        {
          "output_type": "display_data",
          "data": {
            "text/plain": [
              "<Figure size 300x1000 with 2 Axes>"
            ],
            "image/png": "[encoded data removed]"
          },
          "metadata": {}
        }
      ]
    }
  ]
}