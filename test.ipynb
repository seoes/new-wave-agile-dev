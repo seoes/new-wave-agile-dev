{
  "nbformat": 4,
  "nbformat_minor": 0,
  "metadata": {
    "colab": {
      "provenance": [],
      "authorship_tag": "ABX9TyOpjYNT69k0gmfFhQ+HboD2"
    },
    "kernelspec": {
      "name": "python3",
      "display_name": "Python 3"
    },
    "language_info": {
      "name": "python"
    }
  },
  "cells": [
    {
      "cell_type": "code",
      "execution_count": null,
      "metadata": {
        "id": "AIYZATSfyvIa"
      },
      "outputs": [],
      "source": [
        "print('오')"
      ]
    },
    {
      "cell_type": "code",
      "source": [
        "# 뭐여"
      ],
      "metadata": {
        "id": "FL31PzW9RCN8"
      },
      "execution_count": 1,
      "outputs": []
    }
  ]
}